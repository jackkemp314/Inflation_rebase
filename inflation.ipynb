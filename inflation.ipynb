{
 "cells": [
  {
   "cell_type": "code",
   "execution_count": 55,
   "id": "a1248961-13c1-417f-9660-ba83efe6fe3a",
   "metadata": {
    "tags": []
   },
   "outputs": [],
   "source": [
    "import os\n",
    "import pandas as pd\n",
    "import math\n",
    "import matplotlib.pyplot\n",
    "from matplotlib.pyplot import figure\n",
    "import random\n",
    "import numpy as np\n",
    "from datetime import datetime"
   ]
  },
  {
   "cell_type": "code",
   "execution_count": 56,
   "id": "ac936bb3-6f70-49b4-9619-e9e8e5df5a3a",
   "metadata": {
    "tags": []
   },
   "outputs": [],
   "source": [
    "# Function to import csv file\n",
    "\n",
    "# Source: https://www.ons.gov.uk/generator?format=csv&uri=/economy/inflationandpriceindices/timeseries/l522/mm23\n",
    "# File in CSV format. 2015 is base year. 1988-2022 (up to 2023 Q2)\n",
    "# Note: tried using python to download from website using urllib.request.urlopen() but came up with error 403, forbidden.\n",
    "\n",
    "\n",
    "def inflation_data():\n",
    "    global df #declaring this dataframe as global (local as default)\n",
    "    df = pd.read_csv(\"C:\\\\Users\\\\jack.kemp\\\\Downloads\\\\series-181023.csv\", skiprows = 8, header = None)\n",
    "    df.columns = [\"Year\",\"Index\"]"
   ]
  },
  {
   "cell_type": "code",
   "execution_count": 57,
   "id": "df0982be-f76e-4e26-9c5c-b0a4060bef28",
   "metadata": {
    "tags": []
   },
   "outputs": [],
   "source": [
    "# Functions to rebase index - decided to do different functions, since then can save names e.g. 2019 Q1 in export file\n",
    "def rebase_year():\n",
    "    global newbase, rebase\n",
    "    newbase = int(input(\"Enter the new base year: (1988-2022)\")) \n",
    "    rebase = df[\"Index\"].div(df.at[newbase-1988,\"Index\"]) * 100\n",
    "    # replacing the index column with the new base index\n",
    "    df[\"Index\"] = rebase\n",
    "    \n",
    "def newbase_row_find():\n",
    "    global newbase, newbase_row\n",
    "    while True:\n",
    "        try:\n",
    "            newbase = input(\"Enter the new base: (1988 Q1 - 2023 Q2) or (1988 JAN - 2023 SEP)\")\n",
    "            newbase_row = df[df[\"Year\"] == newbase].index[0]\n",
    "            break\n",
    "            \n",
    "        except IndexError:\n",
    "            print(\"Make sure you enter the date in the format: YYYY QQ or YYYY MMM\")\n",
    "            continue\n",
    "            \n",
    "    \n",
    "def rebase_quarter():\n",
    "    global rebase\n",
    "    newbase_row_find()\n",
    "    rebase = df[\"Index\"].div(df.at[newbase_row,\"Index\"]) * 100\n",
    "    df[\"Index\"] = rebase\n",
    "\n",
    "def rebase_month():\n",
    "    global rebase\n",
    "    newbase_row_find()\n",
    "    rebase = df[\"Index\"].div(df.at[newbase_row,\"Index\"]) * 100\n",
    "    df[\"Index\"] = rebase"
   ]
  },
  {
   "cell_type": "code",
   "execution_count": 58,
   "id": "7502a804-e4a1-4c58-af15-36b6e1b0a88e",
   "metadata": {
    "tags": []
   },
   "outputs": [],
   "source": [
    "def export_excel():\n",
    "    filename = f\"inflation_base_{newbase}.xlsx\"\n",
    "    if os.path.isfile(filename):\n",
    "        print(\"File already exists\")\n",
    "    else:\n",
    "        df.to_excel(filename)\n",
    "        print(\"DataFrame is written to Excel File successfully.\")"
   ]
  },
  {
   "cell_type": "code",
   "execution_count": 59,
   "id": "d59b5f00-30e0-4dbd-bdb8-715265d4e146",
   "metadata": {
    "tags": []
   },
   "outputs": [
    {
     "name": "stdin",
     "output_type": "stream",
     "text": [
      "Select data period: (Y)ear, (Q)uarterly, (M)onthly Q\n",
      "Enter the new base: (1988 Q1 - 2023 Q2) or (1988 JAN - 2023 SEP) 2022 Q2\n"
     ]
    },
    {
     "name": "stdout",
     "output_type": "stream",
     "text": [
      "DataFrame is written to Excel File successfully.\n"
     ]
    }
   ],
   "source": [
    "inflation_data()\n",
    "\n",
    "# while loop to ensure user enters valid period option\n",
    "while True:\n",
    "    timeperiod = input(\"Select data period: (Y)ear, (Q)uarterly, (M)onthly\").lower()\n",
    "    if timeperiod not in (\"y\",\"q\",\"m\"):\n",
    "        print(\"Please enter a valid option\")\n",
    "        continue\n",
    "    else:\n",
    "        if timeperiod == \"y\":\n",
    "            df = df[0:35] \n",
    "            rebase_year()\n",
    "            break\n",
    "        if timeperiod == \"q\":\n",
    "            df = df[36:177]\n",
    "            rebase_quarter()\n",
    "            break\n",
    "        if timeperiod == \"m\":\n",
    "            df = df[178:609]\n",
    "            rebase_month()\n",
    "            break\n",
    "\n",
    "# Exporting to excel\n",
    "export_excel()\n",
    "\n",
    "\n",
    "    \n"
   ]
  },
  {
   "cell_type": "code",
   "execution_count": null,
   "id": "021b5ba7-2fe7-4be3-a664-4832bc34a809",
   "metadata": {},
   "outputs": [],
   "source": []
  }
 ],
 "metadata": {
  "kernelspec": {
   "display_name": "Python 3 (ipykernel)",
   "language": "python",
   "name": "python3"
  },
  "language_info": {
   "codemirror_mode": {
    "name": "ipython",
    "version": 3
   },
   "file_extension": ".py",
   "mimetype": "text/x-python",
   "name": "python",
   "nbconvert_exporter": "python",
   "pygments_lexer": "ipython3",
   "version": "3.11.5"
  }
 },
 "nbformat": 4,
 "nbformat_minor": 5
}
